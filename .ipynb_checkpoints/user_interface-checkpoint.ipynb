{
 "cells": [
  {
   "cell_type": "code",
   "execution_count": null,
   "id": "138a1206",
   "metadata": {},
   "outputs": [],
   "source": [
    "#user input: a food item \n",
    "#button click triggers a function\n",
    "#index = recognize_item(user_input, known_embeddings) #recognize_item function imported from module\n",
    "#look for and output the co2 footprint of input using \" df.loc[index]['Footprint']\" #\"Footprint\" = column name in df \n",
    "#if input not found in dataset, return \"try again\" \n",
    "\n",
    "import gensim\n",
    "import os\n",
    "import PySimpleGUI as sg\n",
    "from recognize_item import *\n",
    "import tkinter as tk\n",
    "\n",
    "\n",
    "#creates pop-up window\n",
    "window = tk.Tk()\n",
    "window.title('Green Bites')\n",
    "window.geometry(\"700x200+10+20\")\n",
    "\n",
    "#allows for user input\n",
    "\n",
    "v = tk.StringVar()\n",
    "\n",
    "entry=tk.Entry(window,textvariable=v, bg='white',fg='black', bd=5)\n",
    "entry.place(x=80, y=150)\n",
    "\n",
    "\n",
    "def carbon():\n",
    "    #labels\n",
    "    #carbon footprint\n",
    "    index = recognize_item(entry.get(), known_embeddings)\n",
    "   # index2 = recommendation()\n",
    "   \n",
    "    lbl=tk.Label(window, text= f\"{entry.get()} is estimated to have a footprint of about kg of {df.loc[index]['Footprint']}CO2 per kg.\", fg='red', font=(\"Helvetica\", 16))\n",
    "\n",
    "    lbl.place(x=60, y=50)\n",
    "   \n",
    "\n",
    "    #to do later\n",
    "    #clear input after an entry \n",
    "button = tk.Button(window, text=\"Submit item\", command = my_fun)\n",
    "button.pack()\n",
    "\n",
    "\n",
    "\n",
    "\n",
    "window.mainloop()\n"
   ]
  },
  {
   "cell_type": "code",
   "execution_count": null,
   "id": "8ef8c3fa",
   "metadata": {},
   "outputs": [],
   "source": []
  },
  {
   "cell_type": "code",
   "execution_count": null,
   "id": "05128f15",
   "metadata": {},
   "outputs": [],
   "source": []
  }
 ],
 "metadata": {
  "kernelspec": {
   "display_name": "Python 3",
   "language": "python",
   "name": "python3"
  }
 },
 "nbformat": 4,
 "nbformat_minor": 5
}
